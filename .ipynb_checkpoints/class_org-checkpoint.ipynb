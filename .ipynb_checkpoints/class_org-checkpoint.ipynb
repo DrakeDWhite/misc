{
 "cells": [
  {
   "cell_type": "code",
   "execution_count": 49,
   "id": "d59e0bdb",
   "metadata": {},
   "outputs": [
    {
     "name": "stdout",
     "output_type": "stream",
     "text": [
      "['Magdalena Avila', 'Cailin Bloom', 'Elise Byun', 'Cosette Carranza', 'Aaron Chen', 'Julia Choi', 'Sofia Cielak', 'Garrick Coloma', 'Jonathan Dinh', 'Jillian Economos', 'Blake Gozashti', 'Si-Jin Guo', 'Taylor Hoyt', 'Peichen Jiang', 'Ava Jo', 'Sean Kang', 'Natasha Kaye', 'Stella Kotik', 'Michelle Ly', 'Monserrat Prado', 'Aubrey Gail Quinto', 'Kassandra Ruiz', 'Jairo Schwartz', 'Sharif Sivad', 'Nibras Suliman', 'Mikayla Trinh']\n",
      "26\n",
      "['Tina Alaberkyan', 'Ayah Ali-Ahmad', 'Alfred Arnaud', 'Nick Beed', 'Matthew Belenis', 'Kayley Chun', 'David Cruz', 'Amber Goring', 'Adrian Guzman', 'Ying Han', 'Bailee Ho', 'Irene Hsu', 'Lilah Klein', 'Melany Lopez', 'Nicole Moguel', 'Kaila Oneal', 'Sean Rai', 'Jenna Rizzi', 'Changle Su', 'Yingsi Sun', 'Annika Tamte', 'Tricia Webster', 'Daniel Williams-Cornejo', 'Yuying Yu', 'Anna Zayas Carmona', 'Andrew Zendejas']\n",
      "26\n"
     ]
    }
   ],
   "source": [
    "# This is a very messy program I just whipped up to organize groups in discussion classes I led \n",
    "import csv \n",
    "import random \n",
    "\n",
    "eleven_student_list = []\n",
    "eleven_dict = {1: [], 2: [], 3: [], 4: [], 5: [], 6: [], 7: [], 8: [], 9: [], 10: []}\n",
    "\n",
    "with open('/Users/drakewhite/Library/CloudStorage/GoogleDrive-drakedwhite@gmail.com/My Drive/School/Spring 24/MS114/Discussions/111_StudentList.csv', newline='') as csvfile:\n",
    "    spamreader = csv.reader(csvfile, delimiter=',', quotechar='|')\n",
    "    #print(spamreader[0])\n",
    "    for row in spamreader:\n",
    "        eleven_student_list.append(\"{0} {1}\".format(row[1][1:-1], row[0][1:]))\n",
    "        #print(\"{0} {1}\".format(row[1][0:-1], row[0][1:]))\n",
    "        #print(\"----------\")\n",
    "        \n",
    "eleven_student_list = eleven_student_list[3:-1]\n",
    "\n",
    "print(eleven_student_list)\n",
    "print(len(eleven_student_list))\n",
    "\n",
    "\n",
    "### TWELVE\n",
    "\n",
    "twelve_student_list = []\n",
    "twelve_dict = {1: [], 2: [], 3: [], 4: [], 5: [], 6: [], 7: [], 8: [], 9: [], 10: []}\n",
    "\n",
    "with open('/Users/drakewhite/Library/CloudStorage/GoogleDrive-drakedwhite@gmail.com/My Drive/School/Spring 24/MS114/Discussions/112_StudentList.csv', newline='') as csvfile:\n",
    "    spamreader = csv.reader(csvfile, delimiter=',', quotechar='|')\n",
    "    #print(spamreader[0])\n",
    "    for row in spamreader:\n",
    "        twelve_student_list.append(\"{0} {1}\".format(row[1][1:-1], row[0][1:]))\n",
    "        #print(\"{0} {1}\".format(row[1][0:-1], row[0][1:]))\n",
    "        #print(\"----------\")\n",
    "        \n",
    "twelve_student_list = twelve_student_list[3:-1]\n",
    "\n",
    "print(twelve_student_list)\n",
    "print(len(twelve_student_list))\n",
    "\n",
    "    \n",
    "\n"
   ]
  },
  {
   "cell_type": "code",
   "execution_count": 50,
   "id": "128c63bc",
   "metadata": {},
   "outputs": [
    {
     "name": "stdout",
     "output_type": "stream",
     "text": [
      "{1: ['Jonathan Dinh', 'Monserrat Prado'], 2: ['Magdalena Avila', 'Ava Jo', 'Jairo Schwartz'], 3: ['Julia Choi', 'Aubrey Gail Quinto', 'Kassandra Ruiz'], 4: ['Elise Byun', 'Stella Kotik'], 5: ['Cosette Carranza', 'Jillian Economos', 'Taylor Hoyt'], 6: ['Blake Gozashti', 'Nibras Suliman'], 7: ['Aaron Chen', 'Si-Jin Guo', 'Sean Kang'], 8: ['Cailin Bloom', 'Sofia Cielak', 'Garrick Coloma'], 9: ['Peichen Jiang', 'Sharif Sivad', 'Mikayla Trinh'], 10: ['Natasha Kaye', 'Michelle Ly']}\n"
     ]
    }
   ],
   "source": [
    "for i in range(26):\n",
    "    in_int = random.randrange(1, 11)\n",
    "    while len(eleven_dict[in_int]) >= 3:\n",
    "        in_int = random.randrange(1, 11)\n",
    "        \n",
    "    eleven_dict[in_int].append(eleven_student_list[i])\n",
    "    \n",
    "print(eleven_dict)"
   ]
  },
  {
   "cell_type": "code",
   "execution_count": 51,
   "id": "0025ede3",
   "metadata": {},
   "outputs": [
    {
     "name": "stdout",
     "output_type": "stream",
     "text": [
      "{1: ['Tina Alaberkyan', 'David Cruz', 'Bailee Ho'], 2: ['Kayley Chun', 'Lilah Klein', 'Kaila Oneal'], 3: ['Melany Lopez', 'Nicole Moguel', 'Changle Su'], 4: ['Yuying Yu', 'Andrew Zendejas'], 5: ['Ayah Ali-Ahmad', 'Amber Goring', 'Adrian Guzman'], 6: ['Matthew Belenis'], 7: ['Yingsi Sun', 'Annika Tamte', 'Tricia Webster'], 8: ['Alfred Arnaud', 'Ying Han', 'Jenna Rizzi'], 9: ['Nick Beed', 'Sean Rai'], 10: ['Irene Hsu', 'Daniel Williams-Cornejo', 'Anna Zayas Carmona']}\n"
     ]
    }
   ],
   "source": [
    "for i in range(26):\n",
    "    in_int = random.randrange(1, 11)\n",
    "    while len(twelve_dict[in_int]) >= 3:\n",
    "        in_int = random.randrange(1, 11)\n",
    "    twelve_dict[in_int].append(twelve_student_list[i])\n",
    "    \n",
    "print(twelve_dict)"
   ]
  },
  {
   "cell_type": "code",
   "execution_count": 55,
   "id": "6529b791",
   "metadata": {},
   "outputs": [
    {
     "ename": "SyntaxError",
     "evalue": "invalid syntax (3099791575.py, line 3)",
     "output_type": "error",
     "traceback": [
      "\u001b[0;36m  Input \u001b[0;32mIn [55]\u001b[0;36m\u001b[0m\n\u001b[0;31m    for person in eleven_dict[num]:\u001b[0m\n\u001b[0m                                  ^\u001b[0m\n\u001b[0;31mSyntaxError\u001b[0m\u001b[0;31m:\u001b[0m invalid syntax\n"
     ]
    }
   ],
   "source": [
    "for num in eleven_dict:\n",
    "    print(\"Group\" + str(num)\n",
    "    for person in eleven_dict[num]:\n",
    "          print(person)\n",
    "    print(\"-------\")\n",
    "    \n"
   ]
  },
  {
   "cell_type": "code",
   "execution_count": null,
   "id": "3cc677b4",
   "metadata": {},
   "outputs": [],
   "source": []
  }
 ],
 "metadata": {
  "kernelspec": {
   "display_name": "Python 3 (ipykernel)",
   "language": "python",
   "name": "python3"
  },
  "language_info": {
   "codemirror_mode": {
    "name": "ipython",
    "version": 3
   },
   "file_extension": ".py",
   "mimetype": "text/x-python",
   "name": "python",
   "nbconvert_exporter": "python",
   "pygments_lexer": "ipython3",
   "version": "3.9.12"
  }
 },
 "nbformat": 4,
 "nbformat_minor": 5
}
