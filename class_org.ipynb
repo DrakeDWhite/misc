{
 "cells": [
  {
   "cell_type": "code",
   "execution_count": 2,
   "id": "d59e0bdb",
   "metadata": {},
   "outputs": [
    {
     "ename": "FileNotFoundError",
     "evalue": "[Errno 2] No such file or directory: '<filename'",
     "output_type": "error",
     "traceback": [
      "\u001b[0;31m---------------------------------------------------------------------------\u001b[0m",
      "\u001b[0;31mFileNotFoundError\u001b[0m                         Traceback (most recent call last)",
      "\u001b[1;32m/Users/drakewhite/Documents/GitHub/misc/class_org.ipynb Cell 1'\u001b[0m in \u001b[0;36m<cell line: 8>\u001b[0;34m()\u001b[0m\n\u001b[1;32m      <a href='vscode-notebook-cell:/Users/drakewhite/Documents/GitHub/misc/class_org.ipynb#ch0000000?line=4'>5</a>\u001b[0m eleven_student_list \u001b[39m=\u001b[39m []\n\u001b[1;32m      <a href='vscode-notebook-cell:/Users/drakewhite/Documents/GitHub/misc/class_org.ipynb#ch0000000?line=5'>6</a>\u001b[0m eleven_dict \u001b[39m=\u001b[39m {\u001b[39m1\u001b[39m: [], \u001b[39m2\u001b[39m: [], \u001b[39m3\u001b[39m: [], \u001b[39m4\u001b[39m: [], \u001b[39m5\u001b[39m: [], \u001b[39m6\u001b[39m: [], \u001b[39m7\u001b[39m: [], \u001b[39m8\u001b[39m: [], \u001b[39m9\u001b[39m: [], \u001b[39m10\u001b[39m: []}\n\u001b[0;32m----> <a href='vscode-notebook-cell:/Users/drakewhite/Documents/GitHub/misc/class_org.ipynb#ch0000000?line=7'>8</a>\u001b[0m \u001b[39mwith\u001b[39;00m \u001b[39mopen\u001b[39;49m(\u001b[39m'\u001b[39;49m\u001b[39m<filename\u001b[39;49m\u001b[39m'\u001b[39;49m, newline\u001b[39m=\u001b[39;49m\u001b[39m'\u001b[39;49m\u001b[39m'\u001b[39;49m) \u001b[39mas\u001b[39;00m csvfile:\n\u001b[1;32m      <a href='vscode-notebook-cell:/Users/drakewhite/Documents/GitHub/misc/class_org.ipynb#ch0000000?line=8'>9</a>\u001b[0m     spamreader \u001b[39m=\u001b[39m csv\u001b[39m.\u001b[39mreader(csvfile, delimiter\u001b[39m=\u001b[39m\u001b[39m'\u001b[39m\u001b[39m,\u001b[39m\u001b[39m'\u001b[39m, quotechar\u001b[39m=\u001b[39m\u001b[39m'\u001b[39m\u001b[39m|\u001b[39m\u001b[39m'\u001b[39m)\n\u001b[1;32m     <a href='vscode-notebook-cell:/Users/drakewhite/Documents/GitHub/misc/class_org.ipynb#ch0000000?line=9'>10</a>\u001b[0m     \u001b[39m#print(spamreader[0])\u001b[39;00m\n",
      "\u001b[0;31mFileNotFoundError\u001b[0m: [Errno 2] No such file or directory: '<filename'"
     ]
    }
   ],
   "source": [
    "# This is a very messy program I just whipped up to organize groups in discussion classes I led \n",
    "import csv \n",
    "import random \n",
    "\n",
    "eleven_student_list = []\n",
    "eleven_dict = {1: [], 2: [], 3: [], 4: [], 5: [], 6: [], 7: [], 8: [], 9: [], 10: []}\n",
    "\n",
    "with open('<filename', newline='') as csvfile:\n",
    "    spamreader = csv.reader(csvfile, delimiter=',', quotechar='|')\n",
    "    #print(spamreader[0])\n",
    "    for row in spamreader:\n",
    "        eleven_student_list.append(\"{0} {1}\".format(row[1][1:-1], row[0][1:]))\n",
    "        #print(\"{0} {1}\".format(row[1][0:-1], row[0][1:]))\n",
    "        #print(\"----------\")\n",
    "        \n",
    "eleven_student_list = eleven_student_list[3:-1]\n",
    "\n",
    "print(eleven_student_list)\n",
    "print(len(eleven_student_list))\n",
    "\n",
    "\n",
    "### TWELVE\n",
    "\n",
    "twelve_student_list = []\n",
    "twelve_dict = {1: [], 2: [], 3: [], 4: [], 5: [], 6: [], 7: [], 8: [], 9: [], 10: []}\n",
    "\n",
    "with open('<filename>', newline='') as csvfile:\n",
    "    spamreader = csv.reader(csvfile, delimiter=',', quotechar='|')\n",
    "    #print(spamreader[0])\n",
    "    for row in spamreader:\n",
    "        twelve_student_list.append(\"{0} {1}\".format(row[1][1:-1], row[0][1:]))\n",
    "        #print(\"{0} {1}\".format(row[1][0:-1], row[0][1:]))\n",
    "        #print(\"----------\")\n",
    "        \n",
    "twelve_student_list = twelve_student_list[3:-1]\n",
    "\n",
    "print(twelve_student_list)\n",
    "print(len(twelve_student_list))\n",
    "\n",
    "    \n",
    "\n"
   ]
  },
  {
   "cell_type": "code",
   "execution_count": 3,
   "id": "128c63bc",
   "metadata": {},
   "outputs": [
    {
     "ename": "IndexError",
     "evalue": "list index out of range",
     "output_type": "error",
     "traceback": [
      "\u001b[0;31m---------------------------------------------------------------------------\u001b[0m",
      "\u001b[0;31mIndexError\u001b[0m                                Traceback (most recent call last)",
      "\u001b[1;32m/Users/drakewhite/Documents/GitHub/misc/class_org.ipynb Cell 2'\u001b[0m in \u001b[0;36m<cell line: 1>\u001b[0;34m()\u001b[0m\n\u001b[1;32m      <a href='vscode-notebook-cell:/Users/drakewhite/Documents/GitHub/misc/class_org.ipynb#ch0000001?line=2'>3</a>\u001b[0m     \u001b[39mwhile\u001b[39;00m \u001b[39mlen\u001b[39m(eleven_dict[in_int]) \u001b[39m>\u001b[39m\u001b[39m=\u001b[39m \u001b[39m3\u001b[39m:\n\u001b[1;32m      <a href='vscode-notebook-cell:/Users/drakewhite/Documents/GitHub/misc/class_org.ipynb#ch0000001?line=3'>4</a>\u001b[0m         in_int \u001b[39m=\u001b[39m random\u001b[39m.\u001b[39mrandrange(\u001b[39m1\u001b[39m, \u001b[39m11\u001b[39m)\n\u001b[0;32m----> <a href='vscode-notebook-cell:/Users/drakewhite/Documents/GitHub/misc/class_org.ipynb#ch0000001?line=5'>6</a>\u001b[0m     eleven_dict[in_int]\u001b[39m.\u001b[39mappend(eleven_student_list[i])\n\u001b[1;32m      <a href='vscode-notebook-cell:/Users/drakewhite/Documents/GitHub/misc/class_org.ipynb#ch0000001?line=7'>8</a>\u001b[0m \u001b[39mprint\u001b[39m(eleven_dict)\n",
      "\u001b[0;31mIndexError\u001b[0m: list index out of range"
     ]
    }
   ],
   "source": [
    "for i in range(26):\n",
    "    in_int = random.randrange(1, 11)\n",
    "    while len(eleven_dict[in_int]) >= 3:\n",
    "        in_int = random.randrange(1, 11)\n",
    "        \n",
    "    eleven_dict[in_int].append(eleven_student_list[i])\n",
    "    \n",
    "print(eleven_dict)"
   ]
  },
  {
   "cell_type": "code",
   "execution_count": 4,
   "id": "0025ede3",
   "metadata": {},
   "outputs": [
    {
     "ename": "NameError",
     "evalue": "name 'twelve_dict' is not defined",
     "output_type": "error",
     "traceback": [
      "\u001b[0;31m---------------------------------------------------------------------------\u001b[0m",
      "\u001b[0;31mNameError\u001b[0m                                 Traceback (most recent call last)",
      "\u001b[1;32m/Users/drakewhite/Documents/GitHub/misc/class_org.ipynb Cell 3'\u001b[0m in \u001b[0;36m<cell line: 1>\u001b[0;34m()\u001b[0m\n\u001b[1;32m      <a href='vscode-notebook-cell:/Users/drakewhite/Documents/GitHub/misc/class_org.ipynb#ch0000002?line=0'>1</a>\u001b[0m \u001b[39mfor\u001b[39;00m i \u001b[39min\u001b[39;00m \u001b[39mrange\u001b[39m(\u001b[39m26\u001b[39m):\n\u001b[1;32m      <a href='vscode-notebook-cell:/Users/drakewhite/Documents/GitHub/misc/class_org.ipynb#ch0000002?line=1'>2</a>\u001b[0m     in_int \u001b[39m=\u001b[39m random\u001b[39m.\u001b[39mrandrange(\u001b[39m1\u001b[39m, \u001b[39m11\u001b[39m)\n\u001b[0;32m----> <a href='vscode-notebook-cell:/Users/drakewhite/Documents/GitHub/misc/class_org.ipynb#ch0000002?line=2'>3</a>\u001b[0m     \u001b[39mwhile\u001b[39;00m \u001b[39mlen\u001b[39m(twelve_dict[in_int]) \u001b[39m>\u001b[39m\u001b[39m=\u001b[39m \u001b[39m3\u001b[39m:\n\u001b[1;32m      <a href='vscode-notebook-cell:/Users/drakewhite/Documents/GitHub/misc/class_org.ipynb#ch0000002?line=3'>4</a>\u001b[0m         in_int \u001b[39m=\u001b[39m random\u001b[39m.\u001b[39mrandrange(\u001b[39m1\u001b[39m, \u001b[39m11\u001b[39m)\n\u001b[1;32m      <a href='vscode-notebook-cell:/Users/drakewhite/Documents/GitHub/misc/class_org.ipynb#ch0000002?line=4'>5</a>\u001b[0m     twelve_dict[in_int]\u001b[39m.\u001b[39mappend(twelve_student_list[i])\n",
      "\u001b[0;31mNameError\u001b[0m: name 'twelve_dict' is not defined"
     ]
    }
   ],
   "source": [
    "for i in range(26):\n",
    "    in_int = random.randrange(1, 11)\n",
    "    while len(twelve_dict[in_int]) >= 3:\n",
    "        in_int = random.randrange(1, 11)\n",
    "    twelve_dict[in_int].append(twelve_student_list[i])\n",
    "    \n",
    "print(twelve_dict)"
   ]
  },
  {
   "cell_type": "code",
   "execution_count": null,
   "id": "6529b791",
   "metadata": {},
   "outputs": [
    {
     "ename": "SyntaxError",
     "evalue": "invalid syntax (3099791575.py, line 3)",
     "output_type": "error",
     "traceback": [
      "\u001b[0;36m  Input \u001b[0;32mIn [55]\u001b[0;36m\u001b[0m\n\u001b[0;31m    for person in eleven_dict[num]:\u001b[0m\n\u001b[0m                                  ^\u001b[0m\n\u001b[0;31mSyntaxError\u001b[0m\u001b[0;31m:\u001b[0m invalid syntax\n"
     ]
    }
   ],
   "source": [
    "for num in eleven_dict:\n",
    "    print(\"Group\" + str(num)\n",
    "    for person in eleven_dict[num]:\n",
    "          print(person)\n",
    "    print(\"-------\")\n",
    "    \n"
   ]
  },
  {
   "cell_type": "code",
   "execution_count": null,
   "id": "3cc677b4",
   "metadata": {},
   "outputs": [],
   "source": []
  }
 ],
 "metadata": {
  "interpreter": {
   "hash": "aee8b7b246df8f9039afb4144a1f6fd8d2ca17a180786b69acc140d282b71a49"
  },
  "kernelspec": {
   "display_name": "Python 3.10.6 64-bit",
   "language": "python",
   "name": "python3"
  },
  "language_info": {
   "codemirror_mode": {
    "name": "ipython",
    "version": 3
   },
   "file_extension": ".py",
   "mimetype": "text/x-python",
   "name": "python",
   "nbconvert_exporter": "python",
   "pygments_lexer": "ipython3",
   "version": "3.10.6"
  }
 },
 "nbformat": 4,
 "nbformat_minor": 5
}
